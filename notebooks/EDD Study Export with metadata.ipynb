{
 "cells": [
  {
   "cell_type": "markdown",
   "metadata": {},
   "source": [
    "# Download EDD Study From Jupyter Notebook\n",
    "This notebook illustrates how to use python to export an EDD study into a pandas dataframe for downstream analytics and processing for any bioinformatics workflow. It also includes "
   ]
  },
  {
   "cell_type": "markdown",
   "metadata": {},
   "source": [
    "## Setup"
   ]
  },
  {
   "cell_type": "markdown",
   "metadata": {},
   "source": [
    "If you run this notebook on jupyter.jbei.org server, select **JBEI-py3.6** kernel in the top right corner."
   ]
  },
  {
   "cell_type": "markdown",
   "metadata": {},
   "source": [
    "If running on your personal computer, install the pip package `edd-utils` by command:\n",
    "\n",
    "`pip  install edd-utils --user` \n"
   ]
  },
  {
   "cell_type": "markdown",
   "metadata": {},
   "source": [
    "------------------"
   ]
  },
  {
   "cell_type": "markdown",
   "metadata": {},
   "source": [
    "First the edd_utils module is imported with the required functions to login and export:"
   ]
  },
  {
   "cell_type": "code",
   "execution_count": 1,
   "metadata": {},
   "outputs": [],
   "source": [
    "from edd_utils import login, export_study, export_metadata"
   ]
  },
  {
   "cell_type": "markdown",
   "metadata": {},
   "source": [
    "## Exporting a study"
   ]
  },
  {
   "cell_type": "markdown",
   "metadata": {},
   "source": [
    "Each EDD study has a unique identifier called a *slug*. A slug is a string from the end of the URL, between the last two slash signs (``/``). We provide this string to tell our exporter what study to download.\n",
    "Below is an example."
   ]
  },
  {
   "cell_type": "code",
   "execution_count": 2,
   "metadata": {},
   "outputs": [],
   "source": [
    "# Study to Download\n",
    "study_slug = 'f2ftest3'\n"
   ]
  },
  {
   "cell_type": "markdown",
   "metadata": {},
   "source": [
    "If the desired EDD server is not `edd.jbei.org`, it should be specified (e.g. `public-edd.jbei.org`, `public-edd.agilebiofoundry.org`).\n",
    "\n",
    "EDD login user name should be specified."
   ]
  },
  {
   "cell_type": "code",
   "execution_count": 3,
   "metadata": {},
   "outputs": [],
   "source": [
    "# EDD server\n",
    "edd_server = 'edd.jbei.org'\n",
    "user       = 'tradivojevic'"
   ]
  },
  {
   "cell_type": "markdown",
   "metadata": {},
   "source": [
    "Now we use the login function in edd_utils to **Login to EDD** using the default instance (edd.jbei.org)"
   ]
  },
  {
   "cell_type": "code",
   "execution_count": 4,
   "metadata": {},
   "outputs": [
    {
     "name": "stdin",
     "output_type": "stream",
     "text": [
      "Password for tradivojevic:  ················\n"
     ]
    }
   ],
   "source": [
    "session = login(edd_server=edd_server, user=user)"
   ]
  },
  {
   "cell_type": "markdown",
   "metadata": {},
   "source": [
    "Finally we **Download the Study** using the export_study function.  It returns a pandas dataframe that can be manipulated for downstream data analysis."
   ]
  },
  {
   "cell_type": "code",
   "execution_count": 5,
   "metadata": {},
   "outputs": [
    {
     "data": {
      "application/vnd.jupyter.widget-view+json": {
       "model_id": "73cacc5480384218895be04b517eabd9",
       "version_major": 2,
       "version_minor": 0
      },
      "text/plain": [
       "HBox(children=(IntProgress(value=0, max=144), HTML(value='')))"
      ]
     },
     "metadata": {},
     "output_type": "display_data"
    },
    {
     "name": "stdout",
     "output_type": "stream",
     "text": [
      "\n"
     ]
    },
    {
     "data": {
      "text/html": [
       "<div>\n",
       "<style scoped>\n",
       "    .dataframe tbody tr th:only-of-type {\n",
       "        vertical-align: middle;\n",
       "    }\n",
       "\n",
       "    .dataframe tbody tr th {\n",
       "        vertical-align: top;\n",
       "    }\n",
       "\n",
       "    .dataframe thead th {\n",
       "        text-align: right;\n",
       "    }\n",
       "</style>\n",
       "<table border=\"1\" class=\"dataframe\">\n",
       "  <thead>\n",
       "    <tr style=\"text-align: right;\">\n",
       "      <th></th>\n",
       "      <th>Study ID</th>\n",
       "      <th>Study Name</th>\n",
       "      <th>Line ID</th>\n",
       "      <th>Line Name</th>\n",
       "      <th>Line Description</th>\n",
       "      <th>Protocol</th>\n",
       "      <th>Assay ID</th>\n",
       "      <th>Assay Name</th>\n",
       "      <th>Formal Type</th>\n",
       "      <th>Measurement Type</th>\n",
       "      <th>Compartment</th>\n",
       "      <th>Units</th>\n",
       "      <th>Value</th>\n",
       "      <th>Hours</th>\n",
       "    </tr>\n",
       "  </thead>\n",
       "  <tbody>\n",
       "    <tr>\n",
       "      <th>0</th>\n",
       "      <td>120754</td>\n",
       "      <td>F2Ftest3</td>\n",
       "      <td>120755</td>\n",
       "      <td>1</td>\n",
       "      <td>F2F 1</td>\n",
       "      <td>Proteomics</td>\n",
       "      <td>120803</td>\n",
       "      <td>1</td>\n",
       "      <td>NaN</td>\n",
       "      <td>Total Biomass Input</td>\n",
       "      <td>0</td>\n",
       "      <td>NaN</td>\n",
       "      <td>0.21665</td>\n",
       "      <td>0.0</td>\n",
       "    </tr>\n",
       "    <tr>\n",
       "      <th>1</th>\n",
       "      <td>120754</td>\n",
       "      <td>F2Ftest3</td>\n",
       "      <td>120755</td>\n",
       "      <td>1</td>\n",
       "      <td>F2F 1</td>\n",
       "      <td>Proteomics</td>\n",
       "      <td>120803</td>\n",
       "      <td>1</td>\n",
       "      <td>cid:5793</td>\n",
       "      <td>D-Glucose</td>\n",
       "      <td>0</td>\n",
       "      <td>g/L</td>\n",
       "      <td>33.65349</td>\n",
       "      <td>0.0</td>\n",
       "    </tr>\n",
       "    <tr>\n",
       "      <th>2</th>\n",
       "      <td>120754</td>\n",
       "      <td>F2Ftest3</td>\n",
       "      <td>120755</td>\n",
       "      <td>1</td>\n",
       "      <td>F2F 1</td>\n",
       "      <td>Proteomics</td>\n",
       "      <td>120803</td>\n",
       "      <td>1</td>\n",
       "      <td>cid:135191</td>\n",
       "      <td>D-Xylose</td>\n",
       "      <td>0</td>\n",
       "      <td>g/L</td>\n",
       "      <td>21.51014</td>\n",
       "      <td>0.0</td>\n",
       "    </tr>\n",
       "    <tr>\n",
       "      <th>3</th>\n",
       "      <td>120754</td>\n",
       "      <td>F2Ftest3</td>\n",
       "      <td>120756</td>\n",
       "      <td>2</td>\n",
       "      <td>F2F 2</td>\n",
       "      <td>Proteomics</td>\n",
       "      <td>120804</td>\n",
       "      <td>2</td>\n",
       "      <td>NaN</td>\n",
       "      <td>Total Biomass Input</td>\n",
       "      <td>0</td>\n",
       "      <td>NaN</td>\n",
       "      <td>0.19395</td>\n",
       "      <td>0.0</td>\n",
       "    </tr>\n",
       "    <tr>\n",
       "      <th>4</th>\n",
       "      <td>120754</td>\n",
       "      <td>F2Ftest3</td>\n",
       "      <td>120756</td>\n",
       "      <td>2</td>\n",
       "      <td>F2F 2</td>\n",
       "      <td>Proteomics</td>\n",
       "      <td>120804</td>\n",
       "      <td>2</td>\n",
       "      <td>cid:5793</td>\n",
       "      <td>D-Glucose</td>\n",
       "      <td>0</td>\n",
       "      <td>g/L</td>\n",
       "      <td>42.70434</td>\n",
       "      <td>0.0</td>\n",
       "    </tr>\n",
       "  </tbody>\n",
       "</table>\n",
       "</div>"
      ],
      "text/plain": [
       "   Study ID Study Name  Line ID  Line Name Line Description    Protocol  \\\n",
       "0    120754   F2Ftest3   120755          1            F2F 1  Proteomics   \n",
       "1    120754   F2Ftest3   120755          1            F2F 1  Proteomics   \n",
       "2    120754   F2Ftest3   120755          1            F2F 1  Proteomics   \n",
       "3    120754   F2Ftest3   120756          2            F2F 2  Proteomics   \n",
       "4    120754   F2Ftest3   120756          2            F2F 2  Proteomics   \n",
       "\n",
       "   Assay ID  Assay Name Formal Type     Measurement Type  Compartment Units  \\\n",
       "0    120803           1         NaN  Total Biomass Input            0   NaN   \n",
       "1    120803           1    cid:5793            D-Glucose            0   g/L   \n",
       "2    120803           1  cid:135191             D-Xylose            0   g/L   \n",
       "3    120804           2         NaN  Total Biomass Input            0   NaN   \n",
       "4    120804           2    cid:5793            D-Glucose            0   g/L   \n",
       "\n",
       "      Value  Hours  \n",
       "0   0.21665    0.0  \n",
       "1  33.65349    0.0  \n",
       "2  21.51014    0.0  \n",
       "3   0.19395    0.0  \n",
       "4  42.70434    0.0  "
      ]
     },
     "execution_count": 5,
     "metadata": {},
     "output_type": "execute_result"
    }
   ],
   "source": [
    "df = export_study(session, study_slug, edd_server=edd_server)\n",
    "df.head()"
   ]
  },
  {
   "cell_type": "markdown",
   "metadata": {},
   "source": [
    "The function `export_metadata` gets all the metadata and returns a pandas dataframe."
   ]
  },
  {
   "cell_type": "code",
   "execution_count": 6,
   "metadata": {},
   "outputs": [
    {
     "data": {
      "text/html": [
       "<div>\n",
       "<style scoped>\n",
       "    .dataframe tbody tr th:only-of-type {\n",
       "        vertical-align: middle;\n",
       "    }\n",
       "\n",
       "    .dataframe tbody tr th {\n",
       "        vertical-align: top;\n",
       "    }\n",
       "\n",
       "    .dataframe thead th {\n",
       "        text-align: right;\n",
       "    }\n",
       "</style>\n",
       "<table border=\"1\" class=\"dataframe\">\n",
       "  <thead>\n",
       "    <tr style=\"text-align: right;\">\n",
       "      <th></th>\n",
       "      <th>Description</th>\n",
       "      <th>Flask Volume</th>\n",
       "      <th>Growth temperature</th>\n",
       "      <th>Date Grown</th>\n",
       "      <th>Date of harvest</th>\n",
       "      <th>Growth Site Type</th>\n",
       "      <th>Growth Site Location</th>\n",
       "      <th>Growth Site Plot ID</th>\n",
       "      <th>Tissue type</th>\n",
       "      <th>IL Name</th>\n",
       "      <th>...</th>\n",
       "      <th>Fermentation Media</th>\n",
       "      <th>Fermentation Starting OD</th>\n",
       "      <th>Fermentation Time</th>\n",
       "      <th>Fermentation Temperature</th>\n",
       "      <th>Fermentation pH set point</th>\n",
       "      <th>Fermentation working volume</th>\n",
       "      <th>Separation method</th>\n",
       "      <th>Overlay Ratio</th>\n",
       "      <th>Overlay Compound</th>\n",
       "      <th>Saccharification biomass loading %</th>\n",
       "    </tr>\n",
       "    <tr>\n",
       "      <th>Line Name</th>\n",
       "      <th></th>\n",
       "      <th></th>\n",
       "      <th></th>\n",
       "      <th></th>\n",
       "      <th></th>\n",
       "      <th></th>\n",
       "      <th></th>\n",
       "      <th></th>\n",
       "      <th></th>\n",
       "      <th></th>\n",
       "      <th></th>\n",
       "      <th></th>\n",
       "      <th></th>\n",
       "      <th></th>\n",
       "      <th></th>\n",
       "      <th></th>\n",
       "      <th></th>\n",
       "      <th></th>\n",
       "      <th></th>\n",
       "      <th></th>\n",
       "      <th></th>\n",
       "    </tr>\n",
       "  </thead>\n",
       "  <tbody>\n",
       "    <tr>\n",
       "      <th>1</th>\n",
       "      <td>F2F 1</td>\n",
       "      <td>4</td>\n",
       "      <td>NA</td>\n",
       "      <td>6/1/19</td>\n",
       "      <td>10/1/19</td>\n",
       "      <td>Greenhouse</td>\n",
       "      <td>Davis</td>\n",
       "      <td>1</td>\n",
       "      <td>Stem</td>\n",
       "      <td>Cholinium Phosphate</td>\n",
       "      <td>...</td>\n",
       "      <td>hydrolysate&amp;amonium sulfate</td>\n",
       "      <td>0.2</td>\n",
       "      <td>72</td>\n",
       "      <td>30</td>\n",
       "      <td>NU</td>\n",
       "      <td>150ul</td>\n",
       "      <td>Overlay</td>\n",
       "      <td>25%</td>\n",
       "      <td>Dodecane spiked with pentadecane</td>\n",
       "      <td>100%</td>\n",
       "    </tr>\n",
       "    <tr>\n",
       "      <th>2</th>\n",
       "      <td>F2F 2</td>\n",
       "      <td>4</td>\n",
       "      <td>NA</td>\n",
       "      <td>6/1/19</td>\n",
       "      <td>10/1/19</td>\n",
       "      <td>Greenhouse</td>\n",
       "      <td>Davis</td>\n",
       "      <td>1</td>\n",
       "      <td>Stem</td>\n",
       "      <td>Cholinium Phosphate</td>\n",
       "      <td>...</td>\n",
       "      <td>hydrolysate&amp;amonium sulfate</td>\n",
       "      <td>0.2</td>\n",
       "      <td>72</td>\n",
       "      <td>30</td>\n",
       "      <td>NU</td>\n",
       "      <td>150ul</td>\n",
       "      <td>Overlay</td>\n",
       "      <td>25%</td>\n",
       "      <td>Dodecane spiked with pentadecane</td>\n",
       "      <td>100%</td>\n",
       "    </tr>\n",
       "    <tr>\n",
       "      <th>3</th>\n",
       "      <td>F2F 3</td>\n",
       "      <td>4</td>\n",
       "      <td>NA</td>\n",
       "      <td>6/1/19</td>\n",
       "      <td>10/1/19</td>\n",
       "      <td>Greenhouse</td>\n",
       "      <td>Davis</td>\n",
       "      <td>1</td>\n",
       "      <td>Stem</td>\n",
       "      <td>Cholinium Phosphate</td>\n",
       "      <td>...</td>\n",
       "      <td>hydrolysate&amp;amonium sulfate</td>\n",
       "      <td>0.2</td>\n",
       "      <td>72</td>\n",
       "      <td>30</td>\n",
       "      <td>NU</td>\n",
       "      <td>150ul</td>\n",
       "      <td>Overlay</td>\n",
       "      <td>25%</td>\n",
       "      <td>Dodecane spiked with pentadecane</td>\n",
       "      <td>100%</td>\n",
       "    </tr>\n",
       "    <tr>\n",
       "      <th>4</th>\n",
       "      <td>F2F 4</td>\n",
       "      <td>4</td>\n",
       "      <td>NA</td>\n",
       "      <td>6/1/19</td>\n",
       "      <td>10/1/19</td>\n",
       "      <td>Greenhouse</td>\n",
       "      <td>Davis</td>\n",
       "      <td>1</td>\n",
       "      <td>Stem</td>\n",
       "      <td>Cholinium Phosphate</td>\n",
       "      <td>...</td>\n",
       "      <td>hydrolysate&amp;amonium sulfate</td>\n",
       "      <td>0.2</td>\n",
       "      <td>72</td>\n",
       "      <td>30</td>\n",
       "      <td>NU</td>\n",
       "      <td>150ul</td>\n",
       "      <td>Overlay</td>\n",
       "      <td>25%</td>\n",
       "      <td>Dodecane spiked with pentadecane</td>\n",
       "      <td>100%</td>\n",
       "    </tr>\n",
       "    <tr>\n",
       "      <th>5</th>\n",
       "      <td>F2F 5</td>\n",
       "      <td>4</td>\n",
       "      <td>NA</td>\n",
       "      <td>6/1/19</td>\n",
       "      <td>10/1/19</td>\n",
       "      <td>Greenhouse</td>\n",
       "      <td>Davis</td>\n",
       "      <td>1</td>\n",
       "      <td>Stem</td>\n",
       "      <td>Cholinium Phosphate</td>\n",
       "      <td>...</td>\n",
       "      <td>hydrolysate&amp;amonium sulfate</td>\n",
       "      <td>0.2</td>\n",
       "      <td>72</td>\n",
       "      <td>30</td>\n",
       "      <td>NU</td>\n",
       "      <td>150ul</td>\n",
       "      <td>Overlay</td>\n",
       "      <td>25%</td>\n",
       "      <td>Dodecane spiked with pentadecane</td>\n",
       "      <td>100%</td>\n",
       "    </tr>\n",
       "  </tbody>\n",
       "</table>\n",
       "<p>5 rows × 68 columns</p>\n",
       "</div>"
      ],
      "text/plain": [
       "          Description Flask Volume Growth temperature Date Grown  \\\n",
       "Line Name                                                          \n",
       "1               F2F 1            4                 NA     6/1/19   \n",
       "2               F2F 2            4                 NA     6/1/19   \n",
       "3               F2F 3            4                 NA     6/1/19   \n",
       "4               F2F 4            4                 NA     6/1/19   \n",
       "5               F2F 5            4                 NA     6/1/19   \n",
       "\n",
       "          Date of harvest Growth Site Type Growth Site Location  \\\n",
       "Line Name                                                         \n",
       "1                 10/1/19       Greenhouse                Davis   \n",
       "2                 10/1/19       Greenhouse                Davis   \n",
       "3                 10/1/19       Greenhouse                Davis   \n",
       "4                 10/1/19       Greenhouse                Davis   \n",
       "5                 10/1/19       Greenhouse                Davis   \n",
       "\n",
       "          Growth Site Plot ID Tissue type              IL Name  \\\n",
       "Line Name                                                        \n",
       "1                           1        Stem  Cholinium Phosphate   \n",
       "2                           1        Stem  Cholinium Phosphate   \n",
       "3                           1        Stem  Cholinium Phosphate   \n",
       "4                           1        Stem  Cholinium Phosphate   \n",
       "5                           1        Stem  Cholinium Phosphate   \n",
       "\n",
       "                         ...                           Fermentation Media  \\\n",
       "Line Name                ...                                                \n",
       "1                        ...                  hydrolysate&amonium sulfate   \n",
       "2                        ...                  hydrolysate&amonium sulfate   \n",
       "3                        ...                  hydrolysate&amonium sulfate   \n",
       "4                        ...                  hydrolysate&amonium sulfate   \n",
       "5                        ...                  hydrolysate&amonium sulfate   \n",
       "\n",
       "          Fermentation Starting OD Fermentation Time Fermentation Temperature  \\\n",
       "Line Name                                                                       \n",
       "1                              0.2                72                       30   \n",
       "2                              0.2                72                       30   \n",
       "3                              0.2                72                       30   \n",
       "4                              0.2                72                       30   \n",
       "5                              0.2                72                       30   \n",
       "\n",
       "          Fermentation pH set point Fermentation working volume  \\\n",
       "Line Name                                                         \n",
       "1                                NU                       150ul   \n",
       "2                                NU                       150ul   \n",
       "3                                NU                       150ul   \n",
       "4                                NU                       150ul   \n",
       "5                                NU                       150ul   \n",
       "\n",
       "          Separation method Overlay Ratio                  Overlay Compound  \\\n",
       "Line Name                                                                     \n",
       "1                   Overlay           25%  Dodecane spiked with pentadecane   \n",
       "2                   Overlay           25%  Dodecane spiked with pentadecane   \n",
       "3                   Overlay           25%  Dodecane spiked with pentadecane   \n",
       "4                   Overlay           25%  Dodecane spiked with pentadecane   \n",
       "5                   Overlay           25%  Dodecane spiked with pentadecane   \n",
       "\n",
       "          Saccharification biomass loading %  \n",
       "Line Name                                     \n",
       "1                                       100%  \n",
       "2                                       100%  \n",
       "3                                       100%  \n",
       "4                                       100%  \n",
       "5                                       100%  \n",
       "\n",
       "[5 rows x 68 columns]"
      ]
     },
     "execution_count": 6,
     "metadata": {},
     "output_type": "execute_result"
    }
   ],
   "source": [
    "df_md = export_metadata(session, study_slug, edd_server=edd_server)\n",
    "df_md.head()"
   ]
  },
  {
   "cell_type": "code",
   "execution_count": null,
   "metadata": {},
   "outputs": [],
   "source": []
  },
  {
   "cell_type": "code",
   "execution_count": null,
   "metadata": {},
   "outputs": [],
   "source": []
  },
  {
   "cell_type": "code",
   "execution_count": null,
   "metadata": {},
   "outputs": [],
   "source": []
  }
 ],
 "metadata": {
  "kernelspec": {
   "display_name": "Python 3",
   "language": "python",
   "name": "python3"
  },
  "language_info": {
   "codemirror_mode": {
    "name": "ipython",
    "version": 3
   },
   "file_extension": ".py",
   "mimetype": "text/x-python",
   "name": "python",
   "nbconvert_exporter": "python",
   "pygments_lexer": "ipython3",
   "version": "3.6.5"
  }
 },
 "nbformat": 4,
 "nbformat_minor": 4
}
