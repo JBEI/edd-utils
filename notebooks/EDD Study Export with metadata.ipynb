{
 "cells": [
  {
   "cell_type": "markdown",
   "metadata": {},
   "source": [
    "# Download EDD Study From Jupyter Notebook\n",
    "This notebook illustrates how to use python to export an EDD study into a pandas dataframe for downstream analytics and processing for any bioinformatics workflow. It also includes "
   ]
  },
  {
   "cell_type": "markdown",
   "metadata": {},
   "source": [
    "First the edd_utils module is imported with the required functions to login and export"
   ]
  },
  {
   "cell_type": "code",
   "execution_count": 1,
   "metadata": {},
   "outputs": [
    {
     "name": "stdout",
     "output_type": "stream",
     "text": [
      "Collecting edd-utils\n",
      "  Downloading edd_utils-0.0.6-py3-none-any.whl (5.0 kB)\n",
      "Requirement already satisfied: tqdm>=4.25.0 in /Users/RGentz/opt/anaconda3/lib/python3.7/site-packages (from edd-utils) (4.36.1)\n",
      "Requirement already satisfied: requests in /Users/RGentz/opt/anaconda3/lib/python3.7/site-packages (from edd-utils) (2.22.0)\n",
      "Requirement already satisfied: pandas in /Users/RGentz/opt/anaconda3/lib/python3.7/site-packages (from edd-utils) (0.25.1)\n",
      "Requirement already satisfied: idna<2.9,>=2.5 in /Users/RGentz/opt/anaconda3/lib/python3.7/site-packages (from requests->edd-utils) (2.8)\n",
      "Requirement already satisfied: urllib3!=1.25.0,!=1.25.1,<1.26,>=1.21.1 in /Users/RGentz/opt/anaconda3/lib/python3.7/site-packages (from requests->edd-utils) (1.24.2)\n",
      "Requirement already satisfied: chardet<3.1.0,>=3.0.2 in /Users/RGentz/opt/anaconda3/lib/python3.7/site-packages (from requests->edd-utils) (3.0.4)\n",
      "Requirement already satisfied: certifi>=2017.4.17 in /Users/RGentz/opt/anaconda3/lib/python3.7/site-packages (from requests->edd-utils) (2019.9.11)\n",
      "Requirement already satisfied: python-dateutil>=2.6.1 in /Users/RGentz/opt/anaconda3/lib/python3.7/site-packages (from pandas->edd-utils) (2.8.0)\n",
      "Requirement already satisfied: pytz>=2017.2 in /Users/RGentz/opt/anaconda3/lib/python3.7/site-packages (from pandas->edd-utils) (2019.3)\n",
      "Requirement already satisfied: numpy>=1.13.3 in /Users/RGentz/opt/anaconda3/lib/python3.7/site-packages (from pandas->edd-utils) (1.17.2)\n",
      "Requirement already satisfied: six>=1.5 in /Users/RGentz/opt/anaconda3/lib/python3.7/site-packages (from python-dateutil>=2.6.1->pandas->edd-utils) (1.12.0)\n",
      "Installing collected packages: edd-utils\n",
      "Successfully installed edd-utils-0.0.6\n"
     ]
    }
   ],
   "source": [
    "#Install a pip package edd-utils in the current Jupyter kernel\n",
    "import sys\n",
    "!{sys.executable} -m pip install edd-utils"
   ]
  },
  {
   "cell_type": "code",
   "execution_count": 54,
   "metadata": {},
   "outputs": [],
   "source": [
    "from edd_utils import login, export_study"
   ]
  },
  {
   "cell_type": "markdown",
   "metadata": {},
   "source": [
    "Each EDD study has a unique identifier called a *slug*. A slug is a string from the end of the URL, between the last two slash signs (``/``). We provide this string to tell our exporter what study to download.\n",
    "Below is an example."
   ]
  },
  {
   "cell_type": "code",
   "execution_count": 55,
   "metadata": {},
   "outputs": [],
   "source": [
    "# Study to Download\n",
    "study_slug = 'testreinhard'\n",
    "slug=study_slug"
   ]
  },
  {
   "cell_type": "markdown",
   "metadata": {},
   "source": [
    "If the desired EDD server is not `edd.jbei.org`, it should be specified (e.g. `public-edd.jbei.org`, `public-edd.agilebiofoundry.org`)."
   ]
  },
  {
   "cell_type": "code",
   "execution_count": 56,
   "metadata": {},
   "outputs": [],
   "source": [
    "# EDD server\n",
    "edd_server = 'edd.jbei.org'"
   ]
  },
  {
   "cell_type": "markdown",
   "metadata": {},
   "source": [
    "Now we use the login function in edd_utils to **Login to EDD** using the default instance (edd.jbei.org)"
   ]
  },
  {
   "cell_type": "code",
   "execution_count": 59,
   "metadata": {},
   "outputs": [
    {
     "name": "stdout",
     "output_type": "stream",
     "text": [
      "Password for RGentz: ········\n"
     ]
    }
   ],
   "source": [
    "session = login(edd_server=edd_server)"
   ]
  },
  {
   "cell_type": "markdown",
   "metadata": {},
   "source": [
    "Finally we **Download the Study** using the export_study function.  It returns a pandas dataframe that can be manipulated for downstream data analysis."
   ]
  },
  {
   "cell_type": "code",
   "execution_count": 121,
   "metadata": {},
   "outputs": [
    {
     "data": {
      "application/vnd.jupyter.widget-view+json": {
       "model_id": "d45e94f7e1234db5810f384a21b344c1",
       "version_major": 2,
       "version_minor": 0
      },
      "text/plain": [
       "HBox(children=(IntProgress(value=1, bar_style='info', max=1), HTML(value='')))"
      ]
     },
     "metadata": {},
     "output_type": "display_data"
    },
    {
     "name": "stdout",
     "output_type": "stream",
     "text": [
      "\n"
     ]
    }
   ],
   "source": [
    "try:\n",
    "    df = export_study(session, study_slug, edd_server=edd_server)\n",
    "except:\n",
    "    print(\"Slugname and/or EDD password are wrong. Please correct before proceding\")"
   ]
  },
  {
   "cell_type": "code",
   "execution_count": 127,
   "metadata": {},
   "outputs": [
    {
     "data": {
      "text/html": [
       "<div>\n",
       "<style scoped>\n",
       "    .dataframe tbody tr th:only-of-type {\n",
       "        vertical-align: middle;\n",
       "    }\n",
       "\n",
       "    .dataframe tbody tr th {\n",
       "        vertical-align: top;\n",
       "    }\n",
       "\n",
       "    .dataframe thead th {\n",
       "        text-align: right;\n",
       "    }\n",
       "</style>\n",
       "<table border=\"1\" class=\"dataframe\">\n",
       "  <thead>\n",
       "    <tr style=\"text-align: right;\">\n",
       "      <th></th>\n",
       "      <th>Study ID</th>\n",
       "      <th>Study Name</th>\n",
       "      <th>Line ID</th>\n",
       "      <th>Line Name</th>\n",
       "      <th>Line Description</th>\n",
       "      <th>Protocol</th>\n",
       "      <th>Assay ID</th>\n",
       "      <th>Assay Name</th>\n",
       "      <th>Formal Type</th>\n",
       "      <th>Measurement Type</th>\n",
       "      <th>Compartment</th>\n",
       "      <th>Units</th>\n",
       "      <th>Value</th>\n",
       "      <th>Hours</th>\n",
       "    </tr>\n",
       "  </thead>\n",
       "  <tbody>\n",
       "  </tbody>\n",
       "</table>\n",
       "</div>"
      ],
      "text/plain": [
       "Empty DataFrame\n",
       "Columns: [Study ID, Study Name, Line ID, Line Name, Line Description, Protocol, Assay ID, Assay Name, Formal Type, Measurement Type, Compartment, Units, Value, Hours]\n",
       "Index: []"
      ]
     },
     "execution_count": 127,
     "metadata": {},
     "output_type": "execute_result"
    }
   ],
   "source": [
    "df.head() #Gets the data as by the sample notebook"
   ]
  },
  {
   "cell_type": "markdown",
   "metadata": {},
   "source": [
    "Code below gets all the metadata and returns it to the user."
   ]
  },
  {
   "cell_type": "code",
   "execution_count": 128,
   "metadata": {},
   "outputs": [
    {
     "data": {
      "text/plain": [
       "[('Flask Volume', '4'),\n",
       " ('Growth temperature', 'NA'),\n",
       " ('Date Grown', '6/25/19'),\n",
       " ('Date of harvest', '9/25/19'),\n",
       " ('Growth Site Type', 'Field'),\n",
       " ('Growth Site Location', 'Davis'),\n",
       " ('Growth Site Plot ID', '1'),\n",
       " ('Tissue type', 'Stem'),\n",
       " ('IL Name', 'Cholinium Phosphate'),\n",
       " ('IL Anion', 'Phosphate'),\n",
       " ('IL Cation', 'Cholinum'),\n",
       " ('IL Zwitterion', 'NU'),\n",
       " ('DES Name', 'NU'),\n",
       " ('DES Hbond acceptor', 'NU'),\n",
       " ('DES Hbond donor', 'NU'),\n",
       " ('Reactor Agitation', '1000'),\n",
       " ('Pretreatment Scale', '2g'),\n",
       " ('Pretreatment Temperature', '121'),\n",
       " ('Pretreatment Time', '3h'),\n",
       " ('Pretreatment IL %', '5%'),\n",
       " ('Pretreatment DES %', 'NU'),\n",
       " ('Biomass Loading', '15%'),\n",
       " ('Particle Size', '1mm'),\n",
       " ('Anti-solvent type', 'NU'),\n",
       " ('Total volume', 'NA'),\n",
       " ('Solids recovery', 'NU'),\n",
       " ('Number of washes', '0'),\n",
       " ('IL Recovery method', 'NU'),\n",
       " ('Saccharification scale', '100%'),\n",
       " ('Saccharification IL conc.', '5%'),\n",
       " ('Saccharification buffer type', 'pH adjustment'),\n",
       " ('Saccharification Buffer conc.', '1molar'),\n",
       " ('Saccharification time', '72'),\n",
       " ('Saccharification temp', '50'),\n",
       " ('Saccharification Enzyme type', 'NA'),\n",
       " ('Saccharification mixing', 'Vortex'),\n",
       " ('JBEI Variety Identifier', 'JB00000001'),\n",
       " ('UC Variety Identifier', '1'),\n",
       " ('Plant Genotype', 'F74FS72 BMR'),\n",
       " ('Harvest Type', 'Dry'),\n",
       " ('Growth Site GPS', 'NA'),\n",
       " ('Irrigation', 'NA'),\n",
       " ('Growth average humidity', 'NA'),\n",
       " ('Post harvest treatment', 'Grind'),\n",
       " ('Storage conditions', 'Room temperature'),\n",
       " ('Flask Type', 'Micronic vials'),\n",
       " ('tolerance for biomass weight', '10%'),\n",
       " ('pH adjustment', 'Phosphate Buffer'),\n",
       " ('Enzyme mixture volume', 'Calculated in Experiment'),\n",
       " ('Enzyme mixture ratio', '9:1 of Ctec3:Htec3 enzymes ( supplier:Novozymes)'),\n",
       " ('Enzyme mixture concentration', '10mg/gm'),\n",
       " ('Extracted liquid volume', '150ul'),\n",
       " ('Centrifugation RPM', '3000'),\n",
       " ('Inductor', 'NU'),\n",
       " ('Induction Time', 'NU'),\n",
       " ('Fermentation Strain', 'Rhodosporidium toruloides Golden boy 1.0'),\n",
       " ('Fermentation Platform', 'Biolector'),\n",
       " ('Fermentation Media', 'hydrolysate&amonium sulfate'),\n",
       " ('Fermentation Starting OD', '0.2'),\n",
       " ('Fermentation Time', '72'),\n",
       " ('Fermentation Temperature', '30'),\n",
       " ('Fermentation pH set point', 'NU'),\n",
       " ('Fermentation working volume', '150ul'),\n",
       " ('Separation method', 'Overlay'),\n",
       " ('Overlay Ratio', '25%'),\n",
       " ('Overlay Compound', 'Dodecane spiked with pentadecane'),\n",
       " ('Saccharification biomass loading %', '100%')]"
      ]
     },
     "execution_count": 128,
     "metadata": {},
     "output_type": "execute_result"
    }
   ],
   "source": [
    "#Get metadata\n",
    "def export_metadata(session, slug, edd_server='edd.jbei.org', verbose=True):\n",
    "    '''Export Metadata from EDD as a touple'''\n",
    "\n",
    "    try:\n",
    "        lookup_response = session.get(f'https://{edd_server}/rest/studies/?slug={slug}')\n",
    "\n",
    "    except KeyError:\n",
    "        if lookup_response.status_code == requests.codes.forbidden:\n",
    "            print('Access to EDD not granted\\n.')\n",
    "            sys.exit()\n",
    "        elif lookup_response.status_code == requests.codes.not_found:\n",
    "            print('EDD study was not found\\n.')\n",
    "            sys.exit()\n",
    "        elif lookup_response.status_code == requests.codes.server_error:\n",
    "            print('Server error\\n.')\n",
    "            sys.exit()\n",
    "        else:\n",
    "            print('An error with EDD export has occurred\\n.')\n",
    "            sys.exit()\n",
    "\n",
    "    json_response = lookup_response.json()\n",
    "    # Catch the error if study slug is not found in edd_server\n",
    "    try: \n",
    "        study_id = json_response[\"results\"][0][\"pk\"]\n",
    "    except IndexError:\n",
    "        if json_response[\"results\"] == []:\n",
    "            print(f'Slug \\'{slug}\\' not found in {edd_server}.\\n')\n",
    "            sys.exit()\n",
    "    # TODO: catch the error if the study is found but cannot be accessed by this user\n",
    "    \n",
    "    # Get the metadata value's\n",
    "    export_response = session.get(f'https://{edd_server}/rest/lines/?study={study_id}')\n",
    "    metadata=export_response.json()\n",
    "    metadata=metadata['results'][-1][\"metadata\"]\n",
    "    # Get the metadata names\n",
    "    export_response = session.get(f'https://{edd_server}/rest/metadata_types/?study_id={study_id}')\n",
    "    rainer_get=export_response.json()\n",
    "    results=rainer_get['results']\n",
    "    # Merge data values and names\n",
    "    output=[]\n",
    "    for i in results:\n",
    "        try:\n",
    "            output.append((i[\"type_name\"],metadata[str(i['pk'])]))\n",
    "            if verbose:\n",
    "                print(i[\"type_name\"],metadata[str(i['pk'])])\n",
    "        except KeyError:\n",
    "            #when we are in here there is no data entered for that field. This happens because EDD returns all datafileds that exist anywhere in EDD not only those present in this study.\n",
    "            pass\n",
    "            #print(\"Not present\",i[\"type_name\"],i)\n",
    "    while rainer_get[\"next\"]!=None: #Get next page of names\n",
    "        export_response = session.get(rainer_get[\"next\"])\n",
    "        rainer_get=export_response.json()\n",
    "        results=rainer_get['results']\n",
    "        for i in results:\n",
    "            try:\n",
    "                output.append((i[\"type_name\"],metadata[str(i['pk'])]))\n",
    "                if verbose:\n",
    "                    print(i[\"type_name\"],metadata[str(i['pk'])])\n",
    "            except KeyError:\n",
    "                #when we are in here there is no data entered for that field. This happens because EDD returns all datafileds that exist anywhere in EDD not only those present in this study.\n",
    "                pass\n",
    "                #print(\"Not present\",i[\"type_name\"],i)\n",
    "    return output\n",
    "    \n",
    "export_metadata(session, slug, edd_server='edd.jbei.org', verbose=False)"
   ]
  },
  {
   "cell_type": "code",
   "execution_count": null,
   "metadata": {},
   "outputs": [],
   "source": [
    "\n"
   ]
  },
  {
   "cell_type": "code",
   "execution_count": null,
   "metadata": {},
   "outputs": [],
   "source": []
  }
 ],
 "metadata": {
  "kernelspec": {
   "display_name": "Python 3",
   "language": "python",
   "name": "python3"
  },
  "language_info": {
   "codemirror_mode": {
    "name": "ipython",
    "version": 3
   },
   "file_extension": ".py",
   "mimetype": "text/x-python",
   "name": "python",
   "nbconvert_exporter": "python",
   "pygments_lexer": "ipython3",
   "version": "3.7.4"
  }
 },
 "nbformat": 4,
 "nbformat_minor": 2
}
