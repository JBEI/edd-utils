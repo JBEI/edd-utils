{
 "cells": [
  {
   "cell_type": "markdown",
   "metadata": {},
   "source": [
    "# Download EDD Study From Jupyter Notebook"
   ]
  },
  {
   "cell_type": "code",
   "execution_count": null,
   "metadata": {},
   "outputs": [],
   "source": [
    "cd ../"
   ]
  },
  {
   "cell_type": "code",
   "execution_count": 2,
   "metadata": {},
   "outputs": [
    {
     "name": "stderr",
     "output_type": "stream",
     "text": [
      "/usr/local/lib/python3.7/site-packages/tqdm/autonotebook/__init__.py:14: TqdmExperimentalWarning: Using `tqdm.autonotebook.tqdm` in notebook mode. Use `tqdm.tqdm` instead to force console mode (e.g. in jupyter console)\n",
      "  \" (e.g. in jupyter console)\", TqdmExperimentalWarning)\n"
     ]
    }
   ],
   "source": [
    "from IPython.display import display\n",
    "from edd_utils import login, export_study\n",
    "\n",
    "#Study to Download\n",
    "study_slug = 'automated-sample-preparation-proteomic-varian-2f3d'"
   ]
  },
  {
   "cell_type": "markdown",
   "metadata": {},
   "source": [
    "**Login to EDD**"
   ]
  },
  {
   "cell_type": "code",
   "execution_count": 3,
   "metadata": {},
   "outputs": [
    {
     "name": "stdout",
     "output_type": "stream",
     "text": [
      "Login Successful!\n"
     ]
    }
   ],
   "source": [
    "session = edd_login(user='zak.costello')"
   ]
  },
  {
   "cell_type": "markdown",
   "metadata": {},
   "source": [
    "**Download Study**"
   ]
  },
  {
   "cell_type": "code",
   "execution_count": 4,
   "metadata": {},
   "outputs": [
    {
     "data": {
      "application/vnd.jupyter.widget-view+json": {
       "model_id": "e69112967df04f80a63a365100da3519",
       "version_major": 2,
       "version_minor": 0
      },
      "text/plain": [
       "HBox(children=(IntProgress(value=0, max=35232), HTML(value='')))"
      ]
     },
     "metadata": {},
     "output_type": "display_data"
    },
    {
     "name": "stdout",
     "output_type": "stream",
     "text": [
      "\n"
     ]
    }
   ],
   "source": [
    "df = export_study(session,study_slug)"
   ]
  },
  {
   "cell_type": "markdown",
   "metadata": {},
   "source": [
    "**Display Results**"
   ]
  },
  {
   "cell_type": "code",
   "execution_count": 5,
   "metadata": {},
   "outputs": [
    {
     "data": {
      "text/html": [
       "<div>\n",
       "<style scoped>\n",
       "    .dataframe tbody tr th:only-of-type {\n",
       "        vertical-align: middle;\n",
       "    }\n",
       "\n",
       "    .dataframe tbody tr th {\n",
       "        vertical-align: top;\n",
       "    }\n",
       "\n",
       "    .dataframe thead th {\n",
       "        text-align: right;\n",
       "    }\n",
       "</style>\n",
       "<table border=\"1\" class=\"dataframe\">\n",
       "  <thead>\n",
       "    <tr style=\"text-align: right;\">\n",
       "      <th></th>\n",
       "      <th>Study ID</th>\n",
       "      <th>Study Name</th>\n",
       "      <th>Line ID</th>\n",
       "      <th>Line Name</th>\n",
       "      <th>Line Description</th>\n",
       "      <th>Protocol</th>\n",
       "      <th>Assay ID</th>\n",
       "      <th>Assay Name</th>\n",
       "      <th>Measurement Type</th>\n",
       "      <th>Compartment</th>\n",
       "      <th>Units</th>\n",
       "      <th>Value</th>\n",
       "      <th>Hours</th>\n",
       "    </tr>\n",
       "  </thead>\n",
       "  <tbody>\n",
       "    <tr>\n",
       "      <th>0</th>\n",
       "      <td>54867</td>\n",
       "      <td>Automated sample preparation - proteomic varia...</td>\n",
       "      <td>54870</td>\n",
       "      <td>A11</td>\n",
       "      <td>NaN</td>\n",
       "      <td>Targeted Proteomics</td>\n",
       "      <td>54964</td>\n",
       "      <td>A11</td>\n",
       "      <td>PCKA_ECOLI</td>\n",
       "      <td>0</td>\n",
       "      <td>counts</td>\n",
       "      <td>29982.0</td>\n",
       "      <td>24.0</td>\n",
       "    </tr>\n",
       "    <tr>\n",
       "      <th>1</th>\n",
       "      <td>54867</td>\n",
       "      <td>Automated sample preparation - proteomic varia...</td>\n",
       "      <td>54870</td>\n",
       "      <td>A11</td>\n",
       "      <td>NaN</td>\n",
       "      <td>Targeted Proteomics</td>\n",
       "      <td>54964</td>\n",
       "      <td>A11</td>\n",
       "      <td>KITH_ECOLI</td>\n",
       "      <td>0</td>\n",
       "      <td>counts</td>\n",
       "      <td>1619.0</td>\n",
       "      <td>24.0</td>\n",
       "    </tr>\n",
       "    <tr>\n",
       "      <th>2</th>\n",
       "      <td>54867</td>\n",
       "      <td>Automated sample preparation - proteomic varia...</td>\n",
       "      <td>54870</td>\n",
       "      <td>A11</td>\n",
       "      <td>NaN</td>\n",
       "      <td>Targeted Proteomics</td>\n",
       "      <td>54964</td>\n",
       "      <td>A11</td>\n",
       "      <td>SERC_ECOLI</td>\n",
       "      <td>0</td>\n",
       "      <td>counts</td>\n",
       "      <td>3082.0</td>\n",
       "      <td>24.0</td>\n",
       "    </tr>\n",
       "    <tr>\n",
       "      <th>3</th>\n",
       "      <td>54867</td>\n",
       "      <td>Automated sample preparation - proteomic varia...</td>\n",
       "      <td>54870</td>\n",
       "      <td>A11</td>\n",
       "      <td>NaN</td>\n",
       "      <td>Targeted Proteomics</td>\n",
       "      <td>54964</td>\n",
       "      <td>A11</td>\n",
       "      <td>ECOT_ECOLI</td>\n",
       "      <td>0</td>\n",
       "      <td>counts</td>\n",
       "      <td>4161.0</td>\n",
       "      <td>24.0</td>\n",
       "    </tr>\n",
       "    <tr>\n",
       "      <th>4</th>\n",
       "      <td>54867</td>\n",
       "      <td>Automated sample preparation - proteomic varia...</td>\n",
       "      <td>54870</td>\n",
       "      <td>A11</td>\n",
       "      <td>NaN</td>\n",
       "      <td>Targeted Proteomics</td>\n",
       "      <td>54964</td>\n",
       "      <td>A11</td>\n",
       "      <td>PHOP_ECOLI</td>\n",
       "      <td>0</td>\n",
       "      <td>counts</td>\n",
       "      <td>8022.0</td>\n",
       "      <td>24.0</td>\n",
       "    </tr>\n",
       "  </tbody>\n",
       "</table>\n",
       "</div>"
      ],
      "text/plain": [
       "   Study ID                                         Study Name  Line ID  \\\n",
       "0     54867  Automated sample preparation - proteomic varia...    54870   \n",
       "1     54867  Automated sample preparation - proteomic varia...    54870   \n",
       "2     54867  Automated sample preparation - proteomic varia...    54870   \n",
       "3     54867  Automated sample preparation - proteomic varia...    54870   \n",
       "4     54867  Automated sample preparation - proteomic varia...    54870   \n",
       "\n",
       "  Line Name  Line Description             Protocol  Assay ID Assay Name  \\\n",
       "0       A11               NaN  Targeted Proteomics     54964        A11   \n",
       "1       A11               NaN  Targeted Proteomics     54964        A11   \n",
       "2       A11               NaN  Targeted Proteomics     54964        A11   \n",
       "3       A11               NaN  Targeted Proteomics     54964        A11   \n",
       "4       A11               NaN  Targeted Proteomics     54964        A11   \n",
       "\n",
       "  Measurement Type  Compartment   Units    Value  Hours  \n",
       "0       PCKA_ECOLI            0  counts  29982.0   24.0  \n",
       "1       KITH_ECOLI            0  counts   1619.0   24.0  \n",
       "2       SERC_ECOLI            0  counts   3082.0   24.0  \n",
       "3       ECOT_ECOLI            0  counts   4161.0   24.0  \n",
       "4       PHOP_ECOLI            0  counts   8022.0   24.0  "
      ]
     },
     "metadata": {},
     "output_type": "display_data"
    }
   ],
   "source": [
    "display(df.head())"
   ]
  }
 ],
 "metadata": {
  "kernelspec": {
   "display_name": "Python 3",
   "language": "python",
   "name": "python3"
  },
  "language_info": {
   "codemirror_mode": {
    "name": "ipython",
    "version": 3
   },
   "file_extension": ".py",
   "mimetype": "text/x-python",
   "name": "python",
   "nbconvert_exporter": "python",
   "pygments_lexer": "ipython3",
   "version": "3.7.0"
  }
 },
 "nbformat": 4,
 "nbformat_minor": 2
}
