{
 "cells": [
  {
   "cell_type": "markdown",
   "metadata": {},
   "source": [
    "# Download EDD Study From Jupyter Notebook\n",
    "This notebook illustrates how easy it is to use python to export an EDD study into a pandas dataframe for downstream analytics and processing for any bioinformatics workflow. "
   ]
  },
  {
   "cell_type": "code",
   "execution_count": 1,
   "metadata": {},
   "outputs": [
    {
     "name": "stdout",
     "output_type": "stream",
     "text": [
      "/Users/tradivojevic/Documents/Code/Python/edd-utils\n"
     ]
    }
   ],
   "source": [
    "cd ../"
   ]
  },
  {
   "cell_type": "markdown",
   "metadata": {},
   "source": [
    "First the edd_utils module is imported with the required functions to login and export"
   ]
  },
  {
   "cell_type": "code",
   "execution_count": 2,
   "metadata": {},
   "outputs": [
    {
     "name": "stderr",
     "output_type": "stream",
     "text": [
      "/usr/local/lib/python3.6/site-packages/tqdm/autonotebook/__init__.py:14: TqdmExperimentalWarning: Using `tqdm.autonotebook.tqdm` in notebook mode. Use `tqdm.tqdm` instead to force console mode (e.g. in jupyter console)\n",
      "  \" (e.g. in jupyter console)\", TqdmExperimentalWarning)\n"
     ]
    }
   ],
   "source": [
    "from edd_utils import login, export_study"
   ]
  },
  {
   "cell_type": "markdown",
   "metadata": {},
   "source": [
    "Each EDD study has a unique identifier called a slug.  We provide this string to tell our exporter what study to download.\n",
    "Below is an example."
   ]
  },
  {
   "cell_type": "code",
   "execution_count": 3,
   "metadata": {},
   "outputs": [],
   "source": [
    "# Study to Download\n",
    "study_slug = 'automated-sample-preparation-proteomic-varian-2f3d'\n"
   ]
  },
  {
   "cell_type": "markdown",
   "metadata": {},
   "source": [
    "If the desired EDD server is not `edd.jbei.org`, it should be specified (e.g. `public-edd.jbei.org`, `public-edd.agilebiofoundry.org`)."
   ]
  },
  {
   "cell_type": "code",
   "execution_count": 4,
   "metadata": {},
   "outputs": [],
   "source": [
    "# EDD server\n",
    "edd_server = 'edd.jbei.org'"
   ]
  },
  {
   "cell_type": "markdown",
   "metadata": {},
   "source": [
    "Now we use the login function in edd_utils to **Login to EDD** using the default instance (edd.jbei.org)"
   ]
  },
  {
   "cell_type": "code",
   "execution_count": 5,
   "metadata": {},
   "outputs": [
    {
     "name": "stdin",
     "output_type": "stream",
     "text": [
      "Password for tradivojevic:  ················\n"
     ]
    }
   ],
   "source": [
    "session = login(edd_server=edd_server, user='tradivojevic')\n"
   ]
  },
  {
   "cell_type": "markdown",
   "metadata": {},
   "source": [
    "Finally we **Download the Study** using the export_study function.  It returns a pandas dataframe that can be manipulated for downstream data analysis."
   ]
  },
  {
   "cell_type": "code",
   "execution_count": 6,
   "metadata": {},
   "outputs": [
    {
     "data": {
      "application/vnd.jupyter.widget-view+json": {
       "model_id": "e08ebf3a1d6943708c16462bf591dbfd",
       "version_major": 2,
       "version_minor": 0
      },
      "text/plain": [
       "HBox(children=(IntProgress(value=0, max=35232), HTML(value='')))"
      ]
     },
     "metadata": {},
     "output_type": "display_data"
    },
    {
     "name": "stdout",
     "output_type": "stream",
     "text": [
      "\n"
     ]
    }
   ],
   "source": [
    "df = export_study(session, study_slug, edd_server=edd_server)"
   ]
  },
  {
   "cell_type": "code",
   "execution_count": 7,
   "metadata": {},
   "outputs": [
    {
     "data": {
      "text/html": [
       "<div>\n",
       "<style scoped>\n",
       "    .dataframe tbody tr th:only-of-type {\n",
       "        vertical-align: middle;\n",
       "    }\n",
       "\n",
       "    .dataframe tbody tr th {\n",
       "        vertical-align: top;\n",
       "    }\n",
       "\n",
       "    .dataframe thead th {\n",
       "        text-align: right;\n",
       "    }\n",
       "</style>\n",
       "<table border=\"1\" class=\"dataframe\">\n",
       "  <thead>\n",
       "    <tr style=\"text-align: right;\">\n",
       "      <th></th>\n",
       "      <th>Study ID</th>\n",
       "      <th>Study Name</th>\n",
       "      <th>Line ID</th>\n",
       "      <th>Line Name</th>\n",
       "      <th>Line Description</th>\n",
       "      <th>Protocol</th>\n",
       "      <th>Assay ID</th>\n",
       "      <th>Assay Name</th>\n",
       "      <th>Measurement Type</th>\n",
       "      <th>Compartment</th>\n",
       "      <th>Units</th>\n",
       "      <th>Value</th>\n",
       "      <th>Hours</th>\n",
       "    </tr>\n",
       "  </thead>\n",
       "  <tbody>\n",
       "    <tr>\n",
       "      <th>0</th>\n",
       "      <td>54867</td>\n",
       "      <td>Automated sample preparation - proteomic varia...</td>\n",
       "      <td>54870</td>\n",
       "      <td>A11</td>\n",
       "      <td>NaN</td>\n",
       "      <td>Targeted Proteomics</td>\n",
       "      <td>54964</td>\n",
       "      <td>A11</td>\n",
       "      <td>PCKA_ECOLI</td>\n",
       "      <td>0</td>\n",
       "      <td>counts</td>\n",
       "      <td>29982.0</td>\n",
       "      <td>24.0</td>\n",
       "    </tr>\n",
       "    <tr>\n",
       "      <th>1</th>\n",
       "      <td>54867</td>\n",
       "      <td>Automated sample preparation - proteomic varia...</td>\n",
       "      <td>54870</td>\n",
       "      <td>A11</td>\n",
       "      <td>NaN</td>\n",
       "      <td>Targeted Proteomics</td>\n",
       "      <td>54964</td>\n",
       "      <td>A11</td>\n",
       "      <td>KITH_ECOLI</td>\n",
       "      <td>0</td>\n",
       "      <td>counts</td>\n",
       "      <td>1619.0</td>\n",
       "      <td>24.0</td>\n",
       "    </tr>\n",
       "    <tr>\n",
       "      <th>2</th>\n",
       "      <td>54867</td>\n",
       "      <td>Automated sample preparation - proteomic varia...</td>\n",
       "      <td>54870</td>\n",
       "      <td>A11</td>\n",
       "      <td>NaN</td>\n",
       "      <td>Targeted Proteomics</td>\n",
       "      <td>54964</td>\n",
       "      <td>A11</td>\n",
       "      <td>SERC_ECOLI</td>\n",
       "      <td>0</td>\n",
       "      <td>counts</td>\n",
       "      <td>3082.0</td>\n",
       "      <td>24.0</td>\n",
       "    </tr>\n",
       "    <tr>\n",
       "      <th>3</th>\n",
       "      <td>54867</td>\n",
       "      <td>Automated sample preparation - proteomic varia...</td>\n",
       "      <td>54870</td>\n",
       "      <td>A11</td>\n",
       "      <td>NaN</td>\n",
       "      <td>Targeted Proteomics</td>\n",
       "      <td>54964</td>\n",
       "      <td>A11</td>\n",
       "      <td>ECOT_ECOLI</td>\n",
       "      <td>0</td>\n",
       "      <td>counts</td>\n",
       "      <td>4161.0</td>\n",
       "      <td>24.0</td>\n",
       "    </tr>\n",
       "    <tr>\n",
       "      <th>4</th>\n",
       "      <td>54867</td>\n",
       "      <td>Automated sample preparation - proteomic varia...</td>\n",
       "      <td>54870</td>\n",
       "      <td>A11</td>\n",
       "      <td>NaN</td>\n",
       "      <td>Targeted Proteomics</td>\n",
       "      <td>54964</td>\n",
       "      <td>A11</td>\n",
       "      <td>PHOP_ECOLI</td>\n",
       "      <td>0</td>\n",
       "      <td>counts</td>\n",
       "      <td>8022.0</td>\n",
       "      <td>24.0</td>\n",
       "    </tr>\n",
       "  </tbody>\n",
       "</table>\n",
       "</div>"
      ],
      "text/plain": [
       "   Study ID                                         Study Name  Line ID  \\\n",
       "0     54867  Automated sample preparation - proteomic varia...    54870   \n",
       "1     54867  Automated sample preparation - proteomic varia...    54870   \n",
       "2     54867  Automated sample preparation - proteomic varia...    54870   \n",
       "3     54867  Automated sample preparation - proteomic varia...    54870   \n",
       "4     54867  Automated sample preparation - proteomic varia...    54870   \n",
       "\n",
       "  Line Name  Line Description             Protocol  Assay ID Assay Name  \\\n",
       "0       A11               NaN  Targeted Proteomics     54964        A11   \n",
       "1       A11               NaN  Targeted Proteomics     54964        A11   \n",
       "2       A11               NaN  Targeted Proteomics     54964        A11   \n",
       "3       A11               NaN  Targeted Proteomics     54964        A11   \n",
       "4       A11               NaN  Targeted Proteomics     54964        A11   \n",
       "\n",
       "  Measurement Type  Compartment   Units    Value  Hours  \n",
       "0       PCKA_ECOLI            0  counts  29982.0   24.0  \n",
       "1       KITH_ECOLI            0  counts   1619.0   24.0  \n",
       "2       SERC_ECOLI            0  counts   3082.0   24.0  \n",
       "3       ECOT_ECOLI            0  counts   4161.0   24.0  \n",
       "4       PHOP_ECOLI            0  counts   8022.0   24.0  "
      ]
     },
     "execution_count": 7,
     "metadata": {},
     "output_type": "execute_result"
    }
   ],
   "source": [
    "df.head()"
   ]
  },
  {
   "cell_type": "code",
   "execution_count": null,
   "metadata": {},
   "outputs": [],
   "source": []
  }
 ],
 "metadata": {
  "kernelspec": {
   "display_name": "Python 3",
   "language": "python",
   "name": "python3"
  },
  "language_info": {
   "codemirror_mode": {
    "name": "ipython",
    "version": 3
   },
   "file_extension": ".py",
   "mimetype": "text/x-python",
   "name": "python",
   "nbconvert_exporter": "python",
   "pygments_lexer": "ipython3",
   "version": "3.6.5"
  }
 },
 "nbformat": 4,
 "nbformat_minor": 2
}
